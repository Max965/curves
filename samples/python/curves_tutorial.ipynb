{
 "cells": [
  {
   "cell_type": "markdown",
   "metadata": {},
   "source": [
    "### Curves Package Introduction\n",
    "The curve Python package offers a set of tools for the construction forward, futures or swap curves for commodities. This notebooks gives a introduction to most of the functionality, including practical examples. For the sake of brevity, in the following descriptions the curve will be referred to as a *forward* or *swap* curve even if the same functionality could be applied to either of these forward curve type, or futures curves."
   ]
  },
  {
   "cell_type": "markdown",
   "metadata": {},
   "source": [
    "#### Bootstrapper\n",
    "The basic functionality of the method bootstrap_contracts is to take a set of forward prices for contracts, which have overlapping delivery periods, and return a curve with overlapping periods removed, but with prices consistent with the original inputs.\n",
    "The example below shows a basic example shows input contract prices for January, February, and Q1 delivery period periods being bootstrapped into January, February and March forward prices."
   ]
  },
  {
   "cell_type": "code",
   "execution_count": 1,
   "metadata": {},
   "outputs": [
    {
     "data": {
      "text/plain": [
       "2019-01    18.950000\n",
       "2019-02    19.102542\n",
       "2019-03    19.102542\n",
       "Freq: M, dtype: float64"
      ]
     },
     "execution_count": 1,
     "metadata": {},
     "output_type": "execute_result"
    }
   ],
   "source": [
    "from curves import bootstrap_contracts\n",
    "from datetime import date\n",
    "\n",
    "q1_price = 19.05\n",
    "contracts = [\n",
    "    (date(2019, 1, 1), 18.95), # Jan-19\n",
    "    (date(2019, 1, 1), date(2019, 3, 1), q1_price) # Q1-19\n",
    "]\n",
    "piecewise_curve, bootstrapped_contracts = bootstrap_contracts(contracts, freq='M')\n",
    "piecewise_curve\n"
   ]
  },
  {
   "cell_type": "markdown",
   "metadata": {},
   "source": [
    "We can now check that the three monthly prices average back to the Q1-19 price of 19.05."
   ]
  },
  {
   "cell_type": "code",
   "execution_count": 2,
   "metadata": {},
   "outputs": [
    {
     "name": "stdout",
     "output_type": "stream",
     "text": [
      "Back calculated Q1-19 price: 19.05000\n"
     ]
    }
   ],
   "source": [
    "back_calc_q1_price = (piecewise_curve['2019-01'] * 31.0 # 31 days in Jan-19\n",
    "                    + piecewise_curve['2019-02'] * 28.0 # 28 days in Feb-19\n",
    "                    + piecewise_curve['2019-03'] * 31.0 # 31 days in Mar-10\n",
    "                     ) / (31.0 + 28.0 + 31.0)\n",
    "print('Back calculated Q1-19 price: {:.5f}'.format(back_calc_q1_price))"
   ]
  },
  {
   "cell_type": "markdown",
   "metadata": {},
   "source": [
    "---\n",
    "#### Appling Shaping Ratios and Spreads\n",
    "The bootstrap_contracts function can apply further shaping to the derived curve in the form of predefined spreads or ratio. Taking the above example of the inputs being a single quarter and month, it might not be satisfactory that the Feb-19 and Mar-19 prices are equal. "
   ]
  },
  {
   "cell_type": "code",
   "execution_count": 3,
   "metadata": {},
   "outputs": [
    {
     "name": "stdout",
     "output_type": "stream",
     "text": [
      "2019-01    18.950000\n",
      "2019-02    20.060761\n",
      "2019-03    18.237055\n",
      "Freq: M, dtype: float64\n",
      "\n",
      "Output Feb/Mar ratio 1.10000\n"
     ]
    }
   ],
   "source": [
    "ratios = [\n",
    "    (date(2019, 2, 1), date(2019, 3, 1), 1.1)    \n",
    "]\n",
    "curve_ratio_shaped, _ = bootstrap_contracts(contracts, shaping_ratios=ratios, freq='M')\n",
    "print(curve_ratio_shaped)\n",
    "print()\n",
    "derived_feb_mar_ratio = curve_ratio_shaped['2019-02'] / curve_ratio_shaped['2019-03']\n",
    "print('Output Feb/Mar ratio {:.5f}'.format(derived_feb_mar_ratio))"
   ]
  },
  {
   "cell_type": "markdown",
   "metadata": {},
   "source": [
    "***\n",
    "The example below, again applies a shaping constraint to Feb-19 and Mar-19, but this time by enforcing a spread between these two prices."
   ]
  },
  {
   "cell_type": "code",
   "execution_count": 4,
   "metadata": {},
   "outputs": [
    {
     "name": "stdout",
     "output_type": "stream",
     "text": [
      "2019-01    18.950000\n",
      "2019-02    19.212881\n",
      "2019-03    19.002881\n",
      "Freq: M, dtype: float64\n",
      "\n",
      "Output Feb-Mar spread 0.21000\n"
     ]
    }
   ],
   "source": [
    "spreads = [\n",
    "    (date(2019, 2, 1), date(2019, 3, 1), 0.21)    \n",
    "]\n",
    "curve_spread_shaped, _ = bootstrap_contracts(contracts, shaping_spreads=spreads, freq='M')\n",
    "print(curve_spread_shaped)\n",
    "print()\n",
    "derived_feb_mar_spread = curve_spread_shaped['2019-02'] - curve_spread_shaped['2019-03']\n",
    "print('Output Feb-Mar spread {:.5f}'.format(derived_feb_mar_spread))"
   ]
  },
  {
   "cell_type": "markdown",
   "metadata": {},
   "source": [
    "---\n",
    "### Average Weighting\n",
    "For some traded products the forward price does not simply consists of the unweighted mean of the prices for sub-period. Instead some sort of weighted average determines the arbitrage-free price. Examples of such products include:\n",
    "* Swaps on indices which only publish on business days.\n",
    "* Power forward contracts which don't deliver at a constant rate throughout the day. For example UK off-peak would deliver over 12 hours on a weekday, and 24 hours on a weekend.\n",
    "The bootstrap_contracts function includes an optional average_weight parameter, which allows the specification of the weighting function as a callable. If the average_weight parameter isn't provided, the default behaviour is for weighting to equal the number of minutes in a delivery period.\n",
    "\n",
    "The example below bootstraps the same January and Q1 prices, except with weighting equal to the number of weekdays."
   ]
  },
  {
   "cell_type": "code",
   "execution_count": 5,
   "metadata": {},
   "outputs": [
    {
     "data": {
      "text/plain": [
       "2019-01    18.950000\n",
       "2019-02    19.106098\n",
       "2019-03    19.106098\n",
       "Freq: M, dtype: float64"
      ]
     },
     "execution_count": 5,
     "metadata": {},
     "output_type": "execute_result"
    }
   ],
   "source": [
    "import pandas as pd\n",
    "def weekday_weight(period):\n",
    "    start_day = period.asfreq('B', 's')\n",
    "    end_day = period.asfreq('B', 'e')\n",
    "    return len(pd.period_range(start=start_day, end=end_day, freq='B'))\n",
    "\n",
    "curve_weekday, _ = bootstrap_contracts(contracts, freq='M', average_weight=weekday_weight)\n",
    "curve_weekday"
   ]
  },
  {
   "cell_type": "markdown",
   "metadata": {},
   "source": [
    "As before, the validity of the resulting curve can be calculated by back-calculating the Q1-19 price and checking that it is equal to the input for this period."
   ]
  },
  {
   "cell_type": "code",
   "execution_count": 6,
   "metadata": {},
   "outputs": [
    {
     "name": "stdout",
     "output_type": "stream",
     "text": [
      "Q1-19 input price 19.05\n",
      "Back calculated Q1-19 price: 19.05000\n"
     ]
    }
   ],
   "source": [
    "q1_price_weekday = (curve_weekday['2019-01'] * 23.0 # 23 weekdays in Jan-19\n",
    "                    + curve_weekday['2019-02'] * 20.0 # 20 days in Feb-19\n",
    "                    + curve_weekday['2019-03'] * 21.0 # 21 days in Mar-10\n",
    "                     ) / (23.0 + 20.0 + 21.0)\n",
    "print('Q1-19 input price {:.5}'.format(q1_price))\n",
    "print('Back calculated Q1-19 price: {:.5f}'.format(q1_price_weekday))"
   ]
  },
  {
   "cell_type": "markdown",
   "metadata": {},
   "source": [
    "---\n",
    "#### Contract Redundancy When Bootstrapping\n",
    "In some circumstances redundant contract information might be passed into the bootstrap_contracts function. An example of this is if the Q1, Jan, Feb, and Mar prices are all present. Clearly the three monthly prices fully determine the Q1 price, hence the redundancy. The default behaviour of the bootstrapper is to throw an exception, as shown below."
   ]
  },
  {
   "cell_type": "code",
   "execution_count": 7,
   "metadata": {},
   "outputs": [
    {
     "name": "stdout",
     "output_type": "stream",
     "text": [
      "The following exception was raised:\n",
      "Redundant contracts and shapings are present\r\n",
      "   at Cmdty.Curves.Bootstrapper`1.Calculate(List`1 contracts, Func`2 weighting, List`1 shapings, DoubleTimeSeries`1 targetBootstrappedCurve, Boolean allowRedundancy)\r\n",
      "   at Cmdty.Curves.Bootstrapper`1.Cmdty.Curves.IBootstrapperAddOptionalParameters<T>.Bootstrap()\n"
     ]
    }
   ],
   "source": [
    "redundant_contract = [\n",
    "    (date(2019, 1, 1), 18.95), # Jan-19\n",
    "    (date(2019, 2, 1), 18.23), # Feb-19\n",
    "    (date(2019, 3, 1), 17.99), # Mar-19\n",
    "    (date(2019, 1, 1), date(2019, 3, 1), 18.43) # Q1-19\n",
    "]\n",
    "try:\n",
    "    bootstrap_contracts(redundant_contract, freq='M')\n",
    "except Exception as e:\n",
    "    print('The following exception was raised:')\n",
    "    print(e)"
   ]
  },
  {
   "cell_type": "markdown",
   "metadata": {},
   "source": [
    "The behaviour in the presence of redundancy can be modified by setting the allow_redundancy parameter to true as the example below shows. The resulting prices will be determined as a least-squares solution of the linear constraints which each input price represents. However, it is preferrable that redundant prices are not avoided if possible."
   ]
  },
  {
   "cell_type": "code",
   "execution_count": 8,
   "metadata": {},
   "outputs": [
    {
     "data": {
      "text/plain": [
       "2019-01    18.975161\n",
       "2019-02    18.257857\n",
       "2019-03    18.015161\n",
       "Freq: M, dtype: float64"
      ]
     },
     "execution_count": 8,
     "metadata": {},
     "output_type": "execute_result"
    }
   ],
   "source": [
    "curve_redundant, _ = bootstrap_contracts(redundant_contract, freq='M', allow_redundancy=True)\n",
    "curve_redundant"
   ]
  },
  {
   "cell_type": "markdown",
   "metadata": {},
   "source": [
    "---\n",
    "### Curve Granularity\n",
    "The granularity of the derived curves is controlled by the string passed in as the freq parameter. For returned values which are of type pandas.Series, this parameter is used when constructing these objects, with more details on the these freqency strings found in the pandas documentation [here](\n",
    "https://pandas.pydata.org/pandas-docs/stable/user_guide/timeseries.html#dateoffset-objects).\n",
    "The package level dict variable FREQ_TO_PERIOD_TYPE contains a mapping between freq parameter values and the underlying managed types used to represent the resulting curve index type, and hence granularity. As such, the keys of FREQ_TO_PERIOD_TYPE can be used to determine the set of admissible values for the freq parameter."
   ]
  },
  {
   "cell_type": "code",
   "execution_count": 9,
   "metadata": {},
   "outputs": [
    {
     "data": {
      "text/plain": [
       "{'15min': Cmdty.TimePeriodValueTypes.QuarterHour,\n",
       " '30min': Cmdty.TimePeriodValueTypes.HalfHour,\n",
       " 'H': Cmdty.TimePeriodValueTypes.Hour,\n",
       " 'D': Cmdty.TimePeriodValueTypes.Day,\n",
       " 'M': Cmdty.TimePeriodValueTypes.Month,\n",
       " 'Q': Cmdty.TimePeriodValueTypes.Quarter}"
      ]
     },
     "execution_count": 9,
     "metadata": {},
     "output_type": "execute_result"
    }
   ],
   "source": [
    "from curves import FREQ_TO_PERIOD_TYPE\n",
    "FREQ_TO_PERIOD_TYPE"
   ]
  },
  {
   "cell_type": "markdown",
   "metadata": {},
   "source": [
    "### Specifying Input Contract\n",
    "In the examples so far, the delivery period of a contract is specified by either the Python built-in date type, either on it's own, or in the first and second element of the tuple. There are however several ways in which the delivery period part of the contract can be represented. The general form is one of the following:\n",
    "* (\\[period\\], \\[price\\])\n",
    "* (\\[period start\\], \\[period end\\], \\[price\\])\n",
    "* ((\\[period start\\], \\[period end\\]), \\[price\\])\n",
    "\n",
    "Hence the elements of the contract can be either a 2-tuple, or a 3-tuple, with the 2-tuple form potentially containing another tuple in the first element. In all of these forms he \\[price\\] part is simply a float instance. The \\[period\\], \\[period start\\], and \\[period end\\] parts can be instances of any of the following types:\n",
    "* pandas.Period\n",
    "* built-in date\n",
    "* build-in datetime\n",
    "\n",
    "#### contract_period Helper Module\n",
    "The curves package contains a helper module contract_period which contains various methods to help with the creation of the delivery period part of the contract. Most, but not all, of the methods return instances of pandas.Period as the example below shows."
   ]
  },
  {
   "cell_type": "code",
   "execution_count": 10,
   "metadata": {},
   "outputs": [
    {
     "name": "stdout",
     "output_type": "stream",
     "text": [
      "Creating months:\n",
      "Period('2019-01', 'M')\n",
      "Period('2019-02', 'M')\n",
      "\n",
      "Creating quarters:\n",
      "Period('2019Q1', 'Q-DEC')\n",
      "Period('2019Q2', 'Q-DEC')\n",
      "\n",
      "Creating seasons:\n",
      "Period('2019Q2', '2Q-DEC')\n",
      "Period('2019Q4', '2Q-DEC')\n",
      "\n",
      "Creating calendar years:\n",
      "Period('2019', 'A-DEC')\n",
      "Period('2020', 'A-DEC')\n",
      "\n",
      "Creating gas years:\n",
      "(datetime.date(2019, 10, 1), datetime.date(2020, 9, 30))\n",
      "(datetime.date(2020, 10, 1), datetime.date(2021, 9, 30))\n"
     ]
    }
   ],
   "source": [
    "from curves import contract_period\n",
    "\n",
    "print('Creating months:')\n",
    "jan19 = contract_period.month(2019, 1)\n",
    "print(repr(jan19))\n",
    "\n",
    "feb19 = contract_period.feb(2019)\n",
    "print(repr(feb19))\n",
    "\n",
    "print()\n",
    "print('Creating quarters:')\n",
    "q119 = contract_period.quarter(2019, 1)\n",
    "print(repr(q119))\n",
    "\n",
    "q219 = contract_period.q_2(2019)\n",
    "print(repr(q219))\n",
    "\n",
    "print()\n",
    "print('Creating seasons:')\n",
    "sum19 = contract_period.summer(2019)\n",
    "print(repr(sum19))\n",
    "\n",
    "win19 = contract_period.winter(2019)\n",
    "print(repr(win19))\n",
    "\n",
    "print()\n",
    "print('Creating calendar years:')\n",
    "cal19 = contract_period.cal_year(2019)\n",
    "print(repr(cal19))\n",
    "\n",
    "cal20 = contract_period.cal_year(2020)\n",
    "print(repr(cal20))\n",
    "\n",
    "print()\n",
    "print('Creating gas years:')\n",
    "gy19 = contract_period.gas_year(2019)\n",
    "print(repr(gy19))\n",
    "\n",
    "gy20 = contract_period.gas_year(2020)\n",
    "print(repr(gy20))\n"
   ]
  },
  {
   "cell_type": "markdown",
   "metadata": {},
   "source": [
    "---\n",
    "### Spline Interpolation\n",
    "In order to facility creating a curve with higher granularity than the input contracts, the curves package includes the max_smooth_interp function. This uses a maximum smoothness algorithm to interpolate input contracts with fourth-order spline, whilst maintaining the average price constraints inherent in the input contract prices.\n",
    "\n",
    "The example below creates a daily granularity curve, from input contracts of various granularities. As would usually be the case in a practical scenario, the bootstrap_contracts method is first used to remove the overlaps from the contracts. The example below also shows how the input contracts can have gaps between them, which the spline will interpolate over, filling in the gaps in the final smooth curve. It also demonstrates the different ways of representing the contract delivery period in the contract tuples."
   ]
  },
  {
   "cell_type": "code",
   "execution_count": 25,
   "metadata": {},
   "outputs": [
    {
     "data": {
      "text/plain": [
       "<matplotlib.legend.Legend at 0x272d4a8b820>"
      ]
     },
     "execution_count": 25,
     "metadata": {},
     "output_type": "execute_result"
    },
    {
     "data": {
      "image/png": "[encoded data removed]",
      "text/plain": [
       "<Figure size 432x288 with 1 Axes>"
      ]
     },
     "metadata": {
      "needs_background": "light"
     },
     "output_type": "display_data"
    }
   ],
   "source": [
    "from curves import max_smooth_interp\n",
    "from curves import contract_period as cp\n",
    "\n",
    "contracts = [\n",
    "    (date(2019, 5, 31), 34.875), \n",
    "    (date(2019, 6, 1), date(2019, 6, 2), 32.87),\n",
    "    ((date(2019, 6, 3), date(2019, 6, 9)), 32.14),\n",
    "    (pd.Period(year=2019, month=6, freq='M'), 31.08),\n",
    "    (cp.month(2019, 7), 29.95),\n",
    "    (cp.q_3(2019), 30.18),\n",
    "    (cp.q_4(2019), 37.64),\n",
    "    (cp.winter(2019), 38.05),\n",
    "    (cp.summer(2020), 32.39),\n",
    "    (cp.winter(2020), 37.84),\n",
    "    (cp.gas_year(2020), 35.12)\n",
    "]\n",
    "\n",
    "pc_for_spline, bc_for_spline = bootstrap_contracts(contracts, freq='D')\n",
    "tensions = [0.0, 0.01, 0.1, 0.5, 1.0]\n",
    "for tension in tensions:\n",
    "    smooth_curve = max_smooth_interp(bc_for_spline, freq='D', tension=tension)\n",
    "    ax = smooth_curve.plot(legend=True)\n",
    "\n",
    "#%matplotlib inline\n",
    "#pc_for_spline.plot(legend=True)\n",
    "#ax = smooth_curve.plot(legend=True)\n",
    "ax.legend(tensions)"
   ]
  },
  {
   "cell_type": "markdown",
   "metadata": {},
   "source": [
    "#### Interpolating Pandas Series\n",
    "The contracts parameter to max_smooth_interp can also be an instance of the pandas Series type, with the example below showing an example of interpolating a monthly series to daily granularity."
   ]
  },
  {
   "cell_type": "code",
   "execution_count": 23,
   "metadata": {},
   "outputs": [
    {
     "data": {
      "text/plain": [
       "<matplotlib.legend.Legend at 0x272cdc12460>"
      ]
     },
     "execution_count": 23,
     "metadata": {},
     "output_type": "execute_result"
    },
    {
     "data": {
      "image/png": "[encoded data removed]",
      "text/plain": [
       "<Figure size 432x288 with 1 Axes>"
      ]
     },
     "metadata": {
      "needs_background": "light"
     },
     "output_type": "display_data"
    }
   ],
   "source": [
    "%matplotlib inline\n",
    "monthly_curve = pd.Series(data=[23.53, 53.245, 35.56, 39.242, 19.024], \n",
    "                          index=pd.period_range(start=pd.Period(year=2020, month=5, freq='M'), periods=5))\n",
    "tensions = [0.0, 0.01, 0.1, 0.5, 1.0]\n",
    "for tension in tensions:\n",
    "    smooth_daily_curve = max_smooth_interp(monthly_curve, freq='D', tension=tension)\n",
    "    ax = smooth_daily_curve.plot(legend=True)\n",
    "\n",
    "#piecewise_daily_curve = monthly_curve.resample('D').fillna('pad')\n",
    "\n",
    "#piecewise_daily_curve.plot(legend=True)\n",
    "#ax = smooth_daily_curve.plot(legend=True)\n",
    "ax.legend(tensions)"
   ]
  },
  {
   "cell_type": "markdown",
   "metadata": {},
   "source": [
    "#### Controlling The Spline Slope\n",
    "In the above example it could theoretically not be desirable for the smooth curve to carry on sloping down at the back end. The optional parameter back_1st_deriv can be used to constrain the slope of the curve (1st derivative with respect to time) at the very end of the curve. See below for an example of setting back_1st_deriv to a positive numer in order to make the curve slope upwards at the end.\n",
    "This is useful in practice as usually the input contract get less granular further back the curve which could easily result in the spline producing a smooth curve which has a shape which is inconsistent with how the commodity price should behave due to fundamentals. The use of the back_1st_deriv parameter allows some control, albeit on in a arbitrary manner.\n",
    "\n",
    "There is another optional parameter front_1st_deriv which applies the same slope constraint, except at the very front of the curve. However, this parameter will be used much less in practice as the front of the curve will have the highest granularity input contracts, hence the curve shape will be more finely controlled by this market data."
   ]
  },
  {
   "cell_type": "code",
   "execution_count": 13,
   "metadata": {},
   "outputs": [
    {
     "data": {
      "text/plain": [
       "<matplotlib.legend.Legend at 0x272cff2aeb0>"
      ]
     },
     "execution_count": 13,
     "metadata": {},
     "output_type": "execute_result"
    },
    {
     "data": {
      "image/png": "[encoded data removed]",
      "text/plain": [
       "<Figure size 432x288 with 1 Axes>"
      ]
     },
     "metadata": {
      "needs_background": "light"
     },
     "output_type": "display_data"
    }
   ],
   "source": [
    "from curves import hyperbolic_tension_spline\n",
    "monthly_curve = pd.Series(data=[55.6, 77.2, 52.92, 29.242, 19.024], \n",
    "                          index=pd.period_range(start=pd.Period(year=2020, month=5, freq='M'), periods=5))\n",
    "\n",
    "back_end_slope = 0.11\n",
    "tension = 0.0\n",
    "\n",
    "smooth_curve_back_slope_1 = max_smooth_interp(monthly_curve, freq='D', tension=0.0)\n",
    "smooth_curve_back_slope_2 = max_smooth_interp(monthly_curve, freq='D', tension=0.003)\n",
    "smooth_curve_back_slope_3, _ = hyperbolic_tension_spline(monthly_curve, freq='D', tension=100.0, discount_factor=lambda x: 1.0)\n",
    "\n",
    "#pc_for_spline.plot(legend=True)\n",
    "#smooth_curve.plot(legend=True)\n",
    "smooth_curve_back_slope_1.plot()\n",
    "smooth_curve_back_slope_2.plot()\n",
    "ax = smooth_curve_back_slope_3.plot(legend=True)\n",
    "ax.legend([\"Tension 0\", \"Tension 0.5\", \"Tension 1.0\"])"
   ]
  },
  {
   "cell_type": "markdown",
   "metadata": {},
   "source": [
    "#### Shaping the Spline\n",
    "Many commodities shows seasonality in the day of week, such as power and gas. In these cases the daily curve produced by the above spline is clearly not sufficient in that such seasonality isn't reflected reflected in the smooth curve. The spline function includes two optional parameters, mult_season_adjust and add_season_adjust which allow an arbitrary adjustment function to be applied to the spline whilst the constraint that the spline averages back to the input contract prices is still maintained.\n",
    "\n",
    "The example below shows how mult_season_adjust is used to apply an adjustment based on the day of the week. However, the adjustment function can be any function on pandas.Period which returns a float. See the function docstring for more details."
   ]
  },
  {
   "cell_type": "code",
   "execution_count": 14,
   "metadata": {},
   "outputs": [
    {
     "ename": "NameError",
     "evalue": "name 'smooth_curve_back_slope' is not defined",
     "output_type": "error",
     "traceback": [
      "\u001b[1;31m---------------------------------------------------------------------------\u001b[0m",
      "\u001b[1;31mNameError\u001b[0m                                 Traceback (most recent call last)",
      "Input \u001b[1;32mIn [14]\u001b[0m, in \u001b[0;36m<cell line: 17>\u001b[1;34m()\u001b[0m\n\u001b[0;32m     14\u001b[0m smooth_curve_mult_adjust \u001b[38;5;241m=\u001b[39m max_smooth_interp(bc_for_spline, freq\u001b[38;5;241m=\u001b[39m\u001b[38;5;124m'\u001b[39m\u001b[38;5;124mD\u001b[39m\u001b[38;5;124m'\u001b[39m, mult_season_adjust\u001b[38;5;241m=\u001b[39mmult_adjust, back_1st_deriv\u001b[38;5;241m=\u001b[39mback_end_slope)\n\u001b[0;32m     16\u001b[0m pc_for_spline\u001b[38;5;241m.\u001b[39mplot(legend\u001b[38;5;241m=\u001b[39m\u001b[38;5;28;01mTrue\u001b[39;00m)\n\u001b[1;32m---> 17\u001b[0m \u001b[43msmooth_curve_back_slope\u001b[49m\u001b[38;5;241m.\u001b[39mplot(legend\u001b[38;5;241m=\u001b[39m\u001b[38;5;28;01mTrue\u001b[39;00m)\n\u001b[0;32m     18\u001b[0m ax \u001b[38;5;241m=\u001b[39m smooth_curve_mult_adjust\u001b[38;5;241m.\u001b[39mplot(legend\u001b[38;5;241m=\u001b[39m\u001b[38;5;28;01mTrue\u001b[39;00m)\n\u001b[0;32m     19\u001b[0m ax\u001b[38;5;241m.\u001b[39mlegend([\u001b[38;5;124m\"\u001b[39m\u001b[38;5;124mPiecewise Daily Curve\u001b[39m\u001b[38;5;124m\"\u001b[39m, \u001b[38;5;124m\"\u001b[39m\u001b[38;5;124mSmooth Daily Curve\u001b[39m\u001b[38;5;124m\"\u001b[39m, \u001b[38;5;124m\"\u001b[39m\u001b[38;5;124mSmooth Daily- Day of Week Adjusted\u001b[39m\u001b[38;5;124m\"\u001b[39m])\n",
      "\u001b[1;31mNameError\u001b[0m: name 'smooth_curve_back_slope' is not defined"
     ]
    },
    {
     "data": {
      "image/png": "[encoded data removed]",
      "text/plain": [
       "<Figure size 432x288 with 1 Axes>"
      ]
     },
     "metadata": {
      "needs_background": "light"
     },
     "output_type": "display_data"
    }
   ],
   "source": [
    "dow_mults = {\n",
    "    0 : 0.99,\n",
    "    1 : 1.01,\n",
    "    2 : 1.05,\n",
    "    3 : 1.07,\n",
    "    4 : 1.02,\n",
    "    5 : 0.95,\n",
    "    6 : 0.92,\n",
    "}\n",
    "\n",
    "def mult_adjust(period):\n",
    "    return dow_mults[period.dayofweek]\n",
    "\n",
    "smooth_curve_mult_adjust = max_smooth_interp(bc_for_spline, freq='D', mult_season_adjust=mult_adjust, back_1st_deriv=back_end_slope)\n",
    "\n",
    "pc_for_spline.plot(legend=True)\n",
    "smooth_curve_back_slope.plot(legend=True)\n",
    "ax = smooth_curve_mult_adjust.plot(legend=True)\n",
    "ax.legend([\"Piecewise Daily Curve\", \"Smooth Daily Curve\", \"Smooth Daily- Day of Week Adjusted\"])"
   ]
  },
  {
   "cell_type": "markdown",
   "metadata": {},
   "source": [
    "#### Adjustments Helper Module\n",
    "To help with creating functions for the mult_season_adjust and add_season_adjust parameters, the curves package contains the helper module adjustments. This module provides functions which can be called to create functions for use as these spline adjustment function parameters.\n",
    "\n",
    "The example below shows how adjustments.dayofweek function to create an additive adjusment function. See the docstring of adjustments.dayofweek for more details."
   ]
  },
  {
   "cell_type": "code",
   "execution_count": null,
   "metadata": {},
   "outputs": [],
   "source": [
    "from curves import adjustments\n",
    "\n",
    "add_adjust = adjustments.dayofweek(default=0.0, saturday=-0.9, sunday=-1.1)\n",
    "\n",
    "smooth_curve_add_adjust = max_smooth_interp(bc_for_spline, freq='D', add_season_adjust=add_adjust, back_1st_deriv=back_end_slope)\n",
    "\n",
    "pc_for_spline.plot(legend=True)\n",
    "smooth_curve_back_slope.plot(legend=True)\n",
    "ax = smooth_curve_add_adjust.plot(legend=True)\n",
    "ax.legend([\"Piecewise Daily Curve\", \"Smooth Daily Curve\", \"Smooth Daily- Day of Week Adjusted\"])"
   ]
  },
  {
   "cell_type": "markdown",
   "metadata": {},
   "source": [
    "#### Weighting Helper Module\n",
    "Both the bootstrapper and spline methods have a parameter called average_weight which specifies the weighting scheme applied when calculating the price of a traded contract from prices at a higher granularity. The curves package includes the module weighting which provides functions to help with creating these weighting functions.\n",
    "\n",
    "The example below shows an example of using weighting.num_business_days to create a weighting function which counts the number of business days in a contract delivery period. In practice, such a weighting function would be used when constructing swap curves on products which only publish an index on business days."
   ]
  },
  {
   "cell_type": "code",
   "execution_count": null,
   "metadata": {},
   "outputs": [],
   "source": [
    "from curves import weighting\n",
    "\n",
    "holidays = [\n",
    "    date(2019, 12, 25),\n",
    "    date(2019, 12, 26),\n",
    "    date(2020, 1, 1),\n",
    "    # Put more holidays here...\n",
    "]\n",
    "\n",
    "bus_day_weighting = weighting.num_business_days(holidays=holidays)\n",
    "\n",
    "bus_day_contracts = [\n",
    "    (cp.dec(2019), 54.85),\n",
    "    (cp.jan(2020), 54.48),\n",
    "    (cp.q_1(2020), 55.12),\n",
    "    (cp.q_2(2020), 53.56),\n",
    "    (cp.cal_year(2020), 53.22),\n",
    "    (cp.cal_year(2021), 51.05),\n",
    "]\n",
    "\n",
    "pc_bus_day, bc_bus_day = bootstrap_contracts(bus_day_contracts, freq='M', average_weight=bus_day_weighting)\n",
    "bus_day_smooth_curve = max_smooth_interp(bc_bus_day, freq='M', average_weight=bus_day_weighting)\n",
    "\n",
    "pc_bus_day.plot(legend=True)\n",
    "ax = bus_day_smooth_curve.plot(legend=True)\n",
    "ax.legend(['Piecewise Curve', 'Smooth Curve'])"
   ]
  }
 ],
 "metadata": {
  "kernelspec": {
   "display_name": "Python 3 (ipykernel)",
   "language": "python",
   "name": "python3"
  },
  "language_info": {
   "codemirror_mode": {
    "name": "ipython",
    "version": 3
   },
   "file_extension": ".py",
   "mimetype": "text/x-python",
   "name": "python",
   "nbconvert_exporter": "python",
   "pygments_lexer": "ipython3",
   "version": "3.9.12"
  }
 },
 "nbformat": 4,
 "nbformat_minor": 2
}
