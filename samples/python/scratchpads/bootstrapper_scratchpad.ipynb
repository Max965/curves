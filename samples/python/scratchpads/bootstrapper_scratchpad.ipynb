{
 "cells": [
  {
   "cell_type": "code",
   "execution_count": 8,
   "id": "5e6385bd",
   "metadata": {},
   "outputs": [],
   "source": [
    "import numpy as np\n",
    "from scipy.linalg import null_space"
   ]
  },
  {
   "cell_type": "code",
   "execution_count": 9,
   "id": "3006034e",
   "metadata": {},
   "outputs": [],
   "source": [
    "def create_bootstrap_matrix(contract_ranges):\n",
    "    m = len(contract_ranges)\n",
    "    n = max([t[1] for t in contract_ranges])\n",
    "    A = np.zeros((m, n))\n",
    "    for i, contract in enumerate(contract_ranges):\n",
    "        start_col, end_col = contract\n",
    "        num_cols = end_col - start_col\n",
    "        weight = 1.0/num_cols\n",
    "        for j in range(start_col, end_col):\n",
    "            A[i, j] = weight\n",
    "    return A"
   ]
  },
  {
   "cell_type": "code",
   "execution_count": 10,
   "id": "b32f32ce",
   "metadata": {},
   "outputs": [],
   "source": [
    "def calc_bootstrap_example(contracts, flat_price):\n",
    "    A = create_bootstrap_matrix(contracts)\n",
    "    print('A')\n",
    "    print(A)\n",
    "    prices = np.array((flat_price, flat_price))\n",
    "    print('prices')\n",
    "    print(prices)\n",
    "    pinv = np.linalg.pinv(A)\n",
    "    print('pseudo-inverse')\n",
    "    print(pinv)\n",
    "    bootstrapped_prices = np.matmul(pinv, prices)\n",
    "    print('bootstrapped')\n",
    "    print(bootstrapped_prices)\n",
    "    print('average of bootstrapped prices')\n",
    "    print(np.mean(bootstrapped_prices))\n",
    "    print('Length of bootstrapped prices')\n",
    "    print(np.dot(bootstrapped_prices, bootstrapped_prices))\n",
    "    print('Length of flat price vector')\n",
    "    flat_price_array = np.full(bootstrapped_prices.shape, flat_price)\n",
    "    print(np.dot(flat_price_array, flat_price_array))"
   ]
  },
  {
   "cell_type": "code",
   "execution_count": 11,
   "id": "4a6a4108",
   "metadata": {},
   "outputs": [
    {
     "name": "stdout",
     "output_type": "stream",
     "text": [
      "Badly Behaved Example\n",
      "A\n",
      "[[0.33333333 0.33333333 0.33333333 0.        ]\n",
      " [0.         0.         0.5        0.5       ]]\n",
      "prices\n",
      "[10 10]\n",
      "pseudo-inverse\n",
      "[[ 1.2 -0.4]\n",
      " [ 1.2 -0.4]\n",
      " [ 0.6  0.8]\n",
      " [-0.6  1.2]]\n",
      "bootstrapped\n",
      "[ 8.  8. 14.  6.]\n",
      "average of bootstrapped prices\n",
      "8.999999999999996\n",
      "Length of bootstrapped prices\n",
      "359.9999999999997\n",
      "Length of flat price vector\n",
      "400\n"
     ]
    }
   ],
   "source": [
    "# Badly Behaved Example\n",
    "contracts = [\n",
    "    (0, 3),\n",
    "    (2, 4),\n",
    "]\n",
    "flat_price = 10\n",
    "print('Badly Behaved Example')\n",
    "calc_bootstrap_example(contracts, flat_price)"
   ]
  },
  {
   "cell_type": "code",
   "execution_count": 12,
   "id": "4c81a855",
   "metadata": {},
   "outputs": [
    {
     "name": "stdout",
     "output_type": "stream",
     "text": [
      "Badly Behaved Example\n",
      "A\n",
      "[[0.25 0.25 0.25 0.25]\n",
      " [0.   0.   0.5  0.5 ]]\n",
      "prices\n",
      "[10. 10.]\n",
      "pseudo-inverse\n",
      "[[ 2.00000000e+00 -1.00000000e+00]\n",
      " [ 2.00000000e+00 -1.00000000e+00]\n",
      " [-2.77555756e-16  1.00000000e+00]\n",
      " [-2.77555756e-16  1.00000000e+00]]\n",
      "bootstrapped\n",
      "[10. 10. 10. 10.]\n",
      "average of bootstrapped prices\n",
      "9.999999999999998\n",
      "Length of bootstrapped prices\n",
      "399.9999999999999\n",
      "Length of flat price vector\n",
      "400.0\n"
     ]
    }
   ],
   "source": [
    "# Well Behaved Example\n",
    "contracts = [\n",
    "    (0, 4),\n",
    "    (2, 4),\n",
    "]\n",
    "flat_price = 10.0\n",
    "print('Badly Behaved Example')\n",
    "calc_bootstrap_example(contracts, flat_price)"
   ]
  },
  {
   "cell_type": "code",
   "execution_count": 13,
   "id": "0c1f80d2",
   "metadata": {},
   "outputs": [],
   "source": [
    "def calc_bootstrap_example_with_nullspace(contracts, flat_price):\n",
    "    A = create_bootstrap_matrix(contracts)\n",
    "    print('A')\n",
    "    print(A)\n",
    "    prices = np.array((flat_price, flat_price))\n",
    "    print('prices')\n",
    "    print(prices)\n",
    "    pinv = np.linalg.pinv(A)\n",
    "    print('pseudo-inverse')\n",
    "    print(pinv)\n",
    "    ns = null_space(A)\n",
    "    print('nullspace basis')\n",
    "    print(ns)\n",
    "    ns_proj_mat = np.matmul(ns, ns.T)\n",
    "    print('nullspace project matrix')\n",
    "    print(ns_proj_mat)\n",
    "    target = np.array([[flat_price], [flat_price], [flat_price], [flat_price]])\n",
    "    print('target')\n",
    "    print(target)\n",
    "    target_proj_into_ns = np.matmul(ns_proj_mat, target)\n",
    "    print('target projected into nullspace')\n",
    "    print(target_proj_into_ns)\n",
    "    bootstrapped_prices = np.matmul(pinv, prices) + target_proj_into_ns.T\n",
    "    print('bootstrapped')\n",
    "    print(bootstrapped_prices)\n",
    "    print('average of bootstrapped prices')\n",
    "    print(np.mean(bootstrapped_prices))\n",
    "    print('Length of bootstrapped prices')\n",
    "    print(np.dot(bootstrapped_prices, bootstrapped_prices))\n",
    "    print('Length of flat price vector')\n",
    "    flat_price_array = np.full(bootstrapped_prices.shape, flat_price)\n",
    "    print(np.dot(flat_price_array, flat_price_array))"
   ]
  },
  {
   "cell_type": "code",
   "execution_count": 14,
   "id": "5585d6f6",
   "metadata": {},
   "outputs": [
    {
     "name": "stdout",
     "output_type": "stream",
     "text": [
      "Badly Behaved Example With Nullspace Component\n",
      "A\n",
      "[[0.33333333 0.33333333 0.33333333 0.        ]\n",
      " [0.         0.         0.5        0.5       ]]\n",
      "prices\n",
      "[10 10]\n",
      "pseudo-inverse\n",
      "[[ 1.2 -0.4]\n",
      " [ 1.2 -0.4]\n",
      " [ 0.6  0.8]\n",
      " [-0.6  1.2]]\n",
      "nullspace basis\n",
      "[[-0.74489571 -0.21243911]\n",
      " [ 0.33825438  0.69683856]\n",
      " [ 0.40664134 -0.48439945]\n",
      " [-0.40664134  0.48439945]]\n",
      "nullspace project matrix\n",
      "[[ 0.6 -0.4 -0.2  0.2]\n",
      " [-0.4  0.6 -0.2  0.2]\n",
      " [-0.2 -0.2  0.4 -0.4]\n",
      " [ 0.2  0.2 -0.4  0.4]]\n",
      "target\n",
      "[[10]\n",
      " [10]\n",
      " [10]\n",
      " [10]]\n",
      "target projected into nullspace\n",
      "[[ 2.]\n",
      " [ 2.]\n",
      " [-4.]\n",
      " [ 4.]]\n",
      "bootstrapped\n",
      "[[10. 10. 10. 10.]]\n",
      "average of bootstrapped prices\n",
      "9.999999999999995\n",
      "Length of bootstrapped prices\n"
     ]
    },
    {
     "ename": "ValueError",
     "evalue": "shapes (1,4) and (1,4) not aligned: 4 (dim 1) != 1 (dim 0)",
     "output_type": "error",
     "traceback": [
      "\u001B[1;31m---------------------------------------------------------------------------\u001B[0m",
      "\u001B[1;31mValueError\u001B[0m                                Traceback (most recent call last)",
      "Input \u001B[1;32mIn [14]\u001B[0m, in \u001B[0;36m<cell line: 8>\u001B[1;34m()\u001B[0m\n\u001B[0;32m      6\u001B[0m flat_price \u001B[38;5;241m=\u001B[39m \u001B[38;5;241m10\u001B[39m\n\u001B[0;32m      7\u001B[0m \u001B[38;5;28mprint\u001B[39m(\u001B[38;5;124m'\u001B[39m\u001B[38;5;124mBadly Behaved Example With Nullspace Component\u001B[39m\u001B[38;5;124m'\u001B[39m)\n\u001B[1;32m----> 8\u001B[0m \u001B[43mcalc_bootstrap_example_with_nullspace\u001B[49m\u001B[43m(\u001B[49m\u001B[43mcontracts\u001B[49m\u001B[43m,\u001B[49m\u001B[43m \u001B[49m\u001B[43mflat_price\u001B[49m\u001B[43m)\u001B[49m\n",
      "Input \u001B[1;32mIn [13]\u001B[0m, in \u001B[0;36mcalc_bootstrap_example_with_nullspace\u001B[1;34m(contracts, flat_price)\u001B[0m\n\u001B[0;32m     27\u001B[0m \u001B[38;5;28mprint\u001B[39m(np\u001B[38;5;241m.\u001B[39mmean(bootstrapped_prices))\n\u001B[0;32m     28\u001B[0m \u001B[38;5;28mprint\u001B[39m(\u001B[38;5;124m'\u001B[39m\u001B[38;5;124mLength of bootstrapped prices\u001B[39m\u001B[38;5;124m'\u001B[39m)\n\u001B[1;32m---> 29\u001B[0m \u001B[38;5;28mprint\u001B[39m(\u001B[43mnp\u001B[49m\u001B[38;5;241;43m.\u001B[39;49m\u001B[43mdot\u001B[49m\u001B[43m(\u001B[49m\u001B[43mbootstrapped_prices\u001B[49m\u001B[43m,\u001B[49m\u001B[43m \u001B[49m\u001B[43mbootstrapped_prices\u001B[49m\u001B[43m)\u001B[49m)\n\u001B[0;32m     30\u001B[0m \u001B[38;5;28mprint\u001B[39m(\u001B[38;5;124m'\u001B[39m\u001B[38;5;124mLength of flat price vector\u001B[39m\u001B[38;5;124m'\u001B[39m)\n\u001B[0;32m     31\u001B[0m flat_price_array \u001B[38;5;241m=\u001B[39m np\u001B[38;5;241m.\u001B[39mfull(bootstrapped_prices\u001B[38;5;241m.\u001B[39mshape, flat_price)\n",
      "File \u001B[1;32m<__array_function__ internals>:5\u001B[0m, in \u001B[0;36mdot\u001B[1;34m(*args, **kwargs)\u001B[0m\n",
      "\u001B[1;31mValueError\u001B[0m: shapes (1,4) and (1,4) not aligned: 4 (dim 1) != 1 (dim 0)"
     ]
    }
   ],
   "source": [
    "# Badly Behaved Example With Nullspace Component\n",
    "contracts = [\n",
    "    (0, 3),\n",
    "    (2, 4),\n",
    "]\n",
    "flat_price = 10\n",
    "print('Badly Behaved Example With Nullspace Component')\n",
    "calc_bootstrap_example_with_nullspace(contracts, flat_price)"
   ]
  },
  {
   "cell_type": "code",
   "execution_count": null,
   "id": "20136ce4",
   "metadata": {},
   "outputs": [],
   "source": [
    "svd = np.linalg.svd(A)\n",
    "svd"
   ]
  },
  {
   "cell_type": "code",
   "execution_count": null,
   "id": "70710eb7",
   "metadata": {},
   "outputs": [],
   "source": [
    "ns = null_space(A)\n",
    "ns"
   ]
  },
  {
   "cell_type": "code",
   "execution_count": null,
   "id": "d5d80559",
   "metadata": {},
   "outputs": [],
   "source": [
    "target = np.array([10.0, 10.0, 10.0, 10.0, 10.0, 10.0])\n",
    "print('target')\n",
    "print(target)\n",
    "error = target - bootstrapped_prices\n",
    "print('error')\n",
    "print(error)\n"
   ]
  },
  {
   "cell_type": "code",
   "execution_count": null,
   "id": "48c445d0",
   "metadata": {},
   "outputs": [],
   "source": [
    "c = np.matmul(ns.T, error)\n",
    "print(c)"
   ]
  },
  {
   "cell_type": "code",
   "execution_count": null,
   "id": "f8b3c6fa",
   "metadata": {},
   "outputs": [],
   "source": [
    "y = bootstrapped_prices + np.matmul(ns, c)\n",
    "y"
   ]
  },
  {
   "cell_type": "markdown",
   "id": "298d3e41",
   "metadata": {},
   "source": [
    "https://github.com/cmdty/curves/issues/8"
   ]
  },
  {
   "cell_type": "code",
   "execution_count": null,
   "id": "9fe98773",
   "metadata": {},
   "outputs": [],
   "source": [
    "import datetime\n",
    "from curves import bootstrap_contracts\n",
    "contracts = [# Day contracts\n",
    " (datetime.date(2020, 4, 3), datetime.date(2020, 4, 3), 18.02),\n",
    " (datetime.date(2020, 4, 6), datetime.date(2020, 4, 6), 12.73),\n",
    " # Week contracts\n",
    " (datetime.date(2020, 4, 6), datetime.date(2020, 4, 12), 16.0),\n",
    " (datetime.date(2020, 4, 13), datetime.date(2020, 4, 19), 16.78),\n",
    " (datetime.date(2020, 4, 20), datetime.date(2020, 4, 26), 20.82),\n",
    " (datetime.date(2020, 4, 27), datetime.date(2020, 5, 3), 17.97), # This is what is causing issues\n",
    " # Month contracts\n",
    " (datetime.date(2020, 5, 1), datetime.date(2020, 5, 31), 22.21),\n",
    " (datetime.date(2020, 6, 1), datetime.date(2020, 6, 30), 27.3)]\n",
    "\n",
    "piecewise_curve, bootstrapped_contracts = bootstrap_contracts(contracts, freq='D')\n",
    "print(piecewise_curve['2020-04-25':'2020-05-05'])"
   ]
  },
  {
   "cell_type": "code",
   "execution_count": null,
   "id": "3b7594b0",
   "metadata": {},
   "outputs": [],
   "source": [
    "print(bootstrapped_contracts)"
   ]
  },
  {
   "cell_type": "markdown",
   "id": "0075adf3",
   "metadata": {},
   "source": [
    "---\n",
    "https://github.com/cmdty/curves/issues/12\n"
   ]
  },
  {
   "cell_type": "code",
   "execution_count": null,
   "id": "c21cfd0a",
   "metadata": {},
   "outputs": [],
   "source": [
    "test_contracts = [(datetime.date(2020, 8, 24), datetime.date(2020, 8, 30), 10.0), \n",
    "(datetime.date(2020, 8, 31), datetime.date(2020, 9, 6), 10.0),\n",
    "(datetime.date(2020, 9, 1), datetime.date(2020, 9, 30), 10.0)]\n",
    "\n",
    "test_piecewise_curve, test_bootstrapped_contracts = bootstrap_contracts(test_contracts, freq='D')\n",
    "print(test_piecewise_curve)"
   ]
  },
  {
   "cell_type": "code",
   "execution_count": 15,
   "id": "e148f73d",
   "metadata": {},
   "outputs": [
    {
     "name": "stdout",
     "output_type": "stream",
     "text": [
      "2020-01-01 00:00\n",
      "2020-01-01 00:00:00+00:00\n",
      "2019-12-31 23:00\n",
      "2019-12-31 23:00:00+00:00\n"
     ]
    }
   ],
   "source": [
    "import pandas as pd\n",
    "\n",
    "date_str = '2020-01-01'\n",
    "freq='H'\n",
    "\n",
    "period = pd.Period(date_str, freq=freq)\n",
    "print(period)\n",
    "ts = pd.Timestamp(date_str, tz='Europe/London')\n",
    "print(ts)\n",
    "\n",
    "offset = pd.tseries.frequencies.to_offset(freq)\n",
    "\n",
    "print(period - offset)\n",
    "print(ts - offset)"
   ]
  },
  {
   "cell_type": "code",
   "execution_count": 16,
   "id": "2f3677cc",
   "metadata": {},
   "outputs": [
    {
     "data": {
      "text/plain": [
       "Timestamp('2023-01-01 00:00:00')"
      ]
     },
     "execution_count": 16,
     "metadata": {},
     "output_type": "execute_result"
    }
   ],
   "source": [
    "from datetime import date, datetime\n",
    "pd.Timestamp(pd.Timestamp(2023,1, 1))"
   ]
  },
  {
   "cell_type": "code",
   "execution_count": 42,
   "id": "31ff2c5a",
   "metadata": {},
   "outputs": [
    {
     "name": "stdout",
     "output_type": "stream",
     "text": [
      "<class 'pandas._libs.tslibs.offsets.Minute'>\n"
     ]
    },
    {
     "data": {
      "text/plain": [
       "48"
      ]
     },
     "execution_count": 42,
     "metadata": {},
     "output_type": "execute_result"
    }
   ],
   "source": [
    "freq='30min'\n",
    "offset = pd.tseries.frequencies.to_offset(freq)\n",
    "period1 = pd.Period('2020-03-08', freq=freq)\n",
    "period2 = pd.Period('2020-03-09', freq=freq)\n",
    "freq_offset = pd.tseries.frequencies.to_offset(freq)\n",
    "print(type(freq_offset))\n",
    "round((period2 - period1)/freq_offset)"
   ]
  },
  {
   "cell_type": "code",
   "execution_count": 46,
   "id": "fe4db37a",
   "metadata": {},
   "outputs": [
    {
     "name": "stdout",
     "output_type": "stream",
     "text": [
      "85 days 00:00:00\n",
      "85 days 00:00:00\n",
      "4080.0\n"
     ]
    }
   ],
   "source": [
    "ts1 = pd.Timestamp('2020-03-08')\n",
    "ts2 = pd.Timestamp('2020-06-01')\n",
    "\n",
    "td = (ts2 - ts1)\n",
    "print(td)\n",
    "\n",
    "td2 = td.ceil(freq)\n",
    "print(td2)\n",
    "td2.to_numpy()\n",
    "\n",
    "print((ts2 - ts1)/freq_offset)"
   ]
  }
 ],
 "metadata": {
  "kernelspec": {
   "display_name": "Python 3 (ipykernel)",
   "language": "python",
   "name": "python3"
  },
  "language_info": {
   "codemirror_mode": {
    "name": "ipython",
    "version": 3
   },
   "file_extension": ".py",
   "mimetype": "text/x-python",
   "name": "python",
   "nbconvert_exporter": "python",
   "pygments_lexer": "ipython3",
   "version": "3.9.12"
  }
 },
 "nbformat": 4,
 "nbformat_minor": 5
}
